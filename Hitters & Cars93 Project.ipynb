{
 "cells": [
  {
   "cell_type": "code",
   "execution_count": null,
   "id": "dc8f34a4-0ce1-4e8f-a8e5-42b246ac1e06",
   "metadata": {},
   "outputs": [],
   "source": [
    "# This code will ignore non harmful warnings\n",
    "from warnings import filterwarnings\n",
    "filterwarnings(\"ignore\")"
   ]
  },
  {
   "cell_type": "markdown",
   "id": "83aef7dc-b8b7-4e2b-9711-666e1779b04b",
   "metadata": {},
   "source": [
    "## Hitters"
   ]
  },
  {
   "cell_type": "code",
   "execution_count": null,
   "id": "9e185bac-8597-4c3f-af56-f43588ffb1bc",
   "metadata": {},
   "outputs": [],
   "source": [
    "path1 = r\"D:\\Captures\\ETL HIVE DS Lecture\\Python by Utkarsh Sir\\Python Basic\\Assignment_DataFrames\\hitters.csv\"\n",
    "print(path1)"
   ]
  },
  {
   "cell_type": "code",
   "execution_count": null,
   "id": "ca79147c-9707-4340-b599-a2ac1f134e62",
   "metadata": {},
   "outputs": [],
   "source": [
    "import pandas as pd\n",
    "df = pd.read_csv(path1)\n",
    "df.head()"
   ]
  },
  {
   "cell_type": "code",
   "execution_count": null,
   "id": "907eadc7-3bdb-4aea-ab4b-c77f607165bb",
   "metadata": {},
   "outputs": [],
   "source": [
    "df.info()"
   ]
  },
  {
   "cell_type": "code",
   "execution_count": null,
   "id": "09d3a90e-a668-469b-a81c-7969a5c1609c",
   "metadata": {},
   "outputs": [],
   "source": [
    "pd.set_option(\"display.max_rows\", 350)\n",
    "pd.set_option(\"display.max_columns\", 30)"
   ]
  },
  {
   "cell_type": "markdown",
   "id": "e31ad47c-5408-4da9-9fec-244be442173c",
   "metadata": {},
   "source": [
    "### Q1. Find out no of missing values in each columns"
   ]
  },
  {
   "cell_type": "code",
   "execution_count": null,
   "id": "b69dd157-4aaf-484c-820c-ee9a190db273",
   "metadata": {},
   "outputs": [],
   "source": [
    "df.isna().sum()"
   ]
  },
  {
   "cell_type": "markdown",
   "id": "e84ed7bb-8155-4c9f-aa1e-1c545747b1f0",
   "metadata": {},
   "source": [
    "### Q2. Find of people who have batted for more than 400 matches"
   ]
  },
  {
   "cell_type": "code",
   "execution_count": null,
   "id": "7fefa934-7be7-4d4e-a050-d8514e73be07",
   "metadata": {},
   "outputs": [],
   "source": [
    "df.query(\"CAtBat > 400\") \\\n",
    "    [[\"Name\", \"CAtBat\"]]"
   ]
  },
  {
   "cell_type": "markdown",
   "id": "0bfba56d-80a8-4c4c-967d-6ab9ac83dd5c",
   "metadata": {},
   "source": [
    "### Q3. Find out the name of the player who has hit max home runs"
   ]
  },
  {
   "cell_type": "code",
   "execution_count": null,
   "id": "cb53ec71-d7be-4eeb-afba-16b9497432ff",
   "metadata": {},
   "outputs": [],
   "source": [
    "df.sort_values(by = \"CHmRun\", ascending = False) \\\n",
    "    .head(1) \\\n",
    "    [[\"Name\", \"CHmRun\"]]"
   ]
  },
  {
   "cell_type": "markdown",
   "id": "f939d973-9d0b-491f-bda3-f21a8640c62b",
   "metadata": {},
   "source": [
    "### Q4. Find out league wise total number of players"
   ]
  },
  {
   "cell_type": "code",
   "execution_count": null,
   "id": "5b51d202-04dc-4b43-99ca-19196dcf0756",
   "metadata": {},
   "outputs": [],
   "source": [
    "df[\"League\"].unique()"
   ]
  },
  {
   "cell_type": "code",
   "execution_count": null,
   "id": "15d861f7-6956-465f-b4a8-f0258c779e74",
   "metadata": {},
   "outputs": [],
   "source": [
    "df[\"League\"].value_counts()"
   ]
  },
  {
   "cell_type": "code",
   "execution_count": null,
   "id": "3f7995b5-82a7-45ec-b1f4-7bf719949178",
   "metadata": {},
   "outputs": [],
   "source": [
    "df[\"League\"].value_counts().plot(kind = \"bar\")"
   ]
  },
  {
   "cell_type": "code",
   "execution_count": null,
   "id": "8f4df49d-cfda-47b4-8fa4-29ebdcf91cd4",
   "metadata": {},
   "outputs": [],
   "source": [
    "df.groupby(by = \"League\") \\\n",
    "    .agg({\"Name\":\"count\"})"
   ]
  },
  {
   "cell_type": "markdown",
   "id": "27410fa6-dc00-4ba2-9e3a-8c54e3bab4c4",
   "metadata": {},
   "source": [
    "### Q5. Find out division wise total amount of salary invested"
   ]
  },
  {
   "cell_type": "code",
   "execution_count": null,
   "id": "721ced49-0fda-4e8c-ae9d-f90dffb4c6f6",
   "metadata": {},
   "outputs": [],
   "source": [
    "df.columns"
   ]
  },
  {
   "cell_type": "code",
   "execution_count": null,
   "id": "02ffc594-b329-48ce-b26f-3911b35d228f",
   "metadata": {},
   "outputs": [],
   "source": [
    "df.groupby(by = \"Division\") \\\n",
    "    .agg({\"Salary\":\"sum\"})"
   ]
  },
  {
   "cell_type": "code",
   "execution_count": null,
   "id": "2b19f8b3-81d8-4e3e-a052-3eb2a26c7f6d",
   "metadata": {},
   "outputs": [],
   "source": [
    "df.groupby(by = \"Division\") \\\n",
    "    .agg({\"Salary\":\"sum\"}) \\\n",
    "    .plot(kind = \"bar\")"
   ]
  },
  {
   "cell_type": "markdown",
   "id": "f6c472da-317a-49bf-9e18-ce66121220ce",
   "metadata": {},
   "source": [
    "### Q6. Find out five most senior players"
   ]
  },
  {
   "cell_type": "code",
   "execution_count": null,
   "id": "f90e03c0-925a-4e1e-a8e1-c89237a5c083",
   "metadata": {},
   "outputs": [],
   "source": [
    "df.sort_values(by = \"Years\", ascending = False) \\\n",
    "    .head(5) \\\n",
    "    [[\"Name\", \"Years\"]]"
   ]
  },
  {
   "cell_type": "code",
   "execution_count": null,
   "id": "037e56f0-c243-451c-bcea-142ec7b23e37",
   "metadata": {},
   "outputs": [],
   "source": [
    "df.nlargest(n = 5, columns = \"Years\")"
   ]
  },
  {
   "cell_type": "markdown",
   "id": "aa8ce334-bb13-4bc8-837c-4f30b92e1e02",
   "metadata": {},
   "source": [
    "## Cars93"
   ]
  },
  {
   "cell_type": "code",
   "execution_count": null,
   "id": "81eb3cc4-0fc3-431c-9d04-4afb65201107",
   "metadata": {},
   "outputs": [],
   "source": [
    "path2 = r\"D:\\Captures\\ETL HIVE DS DataSet\\Python by Pradnya Ma'am\\Python Day 7\\cars.csv\"\n",
    "print(path2)"
   ]
  },
  {
   "cell_type": "code",
   "execution_count": null,
   "id": "9878b45b-f06c-4457-94eb-39b6c8141730",
   "metadata": {},
   "outputs": [],
   "source": [
    "C = pd.read_csv(path2, na_values = [\"\", \"NA\"], keep_default_na = False)\n",
    "C.head()"
   ]
  },
  {
   "cell_type": "code",
   "execution_count": null,
   "id": "c54ad214-dcf4-4b48-8fa5-ffa1231b1077",
   "metadata": {},
   "outputs": [],
   "source": [
    "C.info()"
   ]
  },
  {
   "cell_type": "markdown",
   "id": "63a98b3d-f3d2-4cde-be75-e825ccc18360",
   "metadata": {},
   "source": [
    "### Q1. Find out car having highest Mileage in city"
   ]
  },
  {
   "cell_type": "code",
   "execution_count": null,
   "id": "4858e466-7f86-4f6c-b1c3-23edccedc008",
   "metadata": {},
   "outputs": [],
   "source": [
    "C.nlargest(n = 1, columns = \"MPG.city\") \\\n",
    "    [[\"Manufacturer\", \"Model\", \"MPG.city\"]]"
   ]
  },
  {
   "cell_type": "markdown",
   "id": "19525e4f-e758-497e-a637-053efde28aab",
   "metadata": {},
   "source": [
    "### Q2. Find out Models of cars which are having Price between 17 and 25"
   ]
  },
  {
   "cell_type": "code",
   "execution_count": null,
   "id": "41522846-ff78-4b4a-9dd2-fe97bb20bff3",
   "metadata": {
    "scrolled": true
   },
   "outputs": [],
   "source": [
    "C.query(\"Price >= 17 and Price <= 25\") \\\n",
    "    [[\"Manufacturer\", \"Model\", \"Price\"]]"
   ]
  },
  {
   "cell_type": "markdown",
   "id": "1b359d31-9b7b-47af-86ec-ffe9c6f8709e",
   "metadata": {},
   "source": [
    "### Q3. Find out top 7 most fuel economic cars for highway"
   ]
  },
  {
   "cell_type": "code",
   "execution_count": null,
   "id": "1a6dde71-3fa1-4954-90b7-6918acf64b87",
   "metadata": {},
   "outputs": [],
   "source": [
    "C.nlargest(n = 7, columns = \"MPG.highway\") \\\n",
    "    [[\"Manufacturer\", \"Model\", \"MPG.highway\"]]"
   ]
  },
  {
   "cell_type": "markdown",
   "id": "9741f7f2-4629-46a0-b096-883310f5f7f4",
   "metadata": {},
   "source": [
    "### Q4. Find out Models of cars having no AirBags and which are of compact type whose price is below 20"
   ]
  },
  {
   "cell_type": "code",
   "execution_count": null,
   "id": "0286ca78-c762-43ca-ac30-be43030e7e32",
   "metadata": {},
   "outputs": [],
   "source": [
    " q = (\n",
    "     \"AirBags == 'None' and \"\n",
    "     \"Type == 'Compact' and \"\n",
    "     \"Price < 20\"\n",
    ")\n",
    "print(q)"
   ]
  },
  {
   "cell_type": "code",
   "execution_count": null,
   "id": "0641689f-d01e-4ef3-9b83-d64a8f1d9edf",
   "metadata": {},
   "outputs": [],
   "source": [
    "C.query(q) \\\n",
    "    [[\"Manufacturer\", \"Model\", \"AirBags\", \"Type\", \"Price\"]]"
   ]
  },
  {
   "cell_type": "markdown",
   "id": "0123b5c3-1afa-4fe3-8333-017f22fc010c",
   "metadata": {},
   "source": [
    "### Q5. Find out top 7 most fuel economic cars for city, show results in sorted manner based on Horsepower"
   ]
  },
  {
   "cell_type": "code",
   "execution_count": null,
   "id": "710c1882-00f6-4d20-b7a3-dbdd360c480a",
   "metadata": {},
   "outputs": [],
   "source": [
    "C.nlargest(n = 7, columns = \"MPG.city\") \\\n",
    "    .sort_values(by = \"Horsepower\", ascending = False) \\\n",
    "    [[\"Manufacturer\", \"Model\", \"MPG.city\", \"Horsepower\"]]"
   ]
  },
  {
   "cell_type": "markdown",
   "id": "c4aac280-f429-4a1b-a68d-374d0ab0c513",
   "metadata": {},
   "source": [
    "### Q6. Find out Cars having mileage of more than 15 miles in city"
   ]
  },
  {
   "cell_type": "code",
   "execution_count": null,
   "id": "ab0f5de7-1e00-4f06-ae58-cf7f96434ebb",
   "metadata": {},
   "outputs": [],
   "source": [
    "C.query(\"`MPG.city` > 15\") \\\n",
    "    [[\"Manufacturer\", \"Model\", \"MPG.city\"]]"
   ]
  },
  {
   "cell_type": "markdown",
   "id": "57610166-283b-4242-afcd-1ce75898ea57",
   "metadata": {},
   "source": [
    "### Q7. Find out Cars with US based origin"
   ]
  },
  {
   "cell_type": "code",
   "execution_count": null,
   "id": "c917d732-9330-4385-bcf5-21619a86daf2",
   "metadata": {},
   "outputs": [],
   "source": [
    "C[\"Origin\"].unique()"
   ]
  },
  {
   "cell_type": "code",
   "execution_count": null,
   "id": "dbb2dffb-8268-4509-8aef-baaed252c60e",
   "metadata": {
    "scrolled": true
   },
   "outputs": [],
   "source": [
    "C.query(\"Origin == 'USA'\") \\\n",
    "    [[\"Manufacturer\", \"Model\", \"Origin\"]]"
   ]
  },
  {
   "cell_type": "markdown",
   "id": "45b83490-37ef-4347-9b3c-4c14dbf5838c",
   "metadata": {},
   "source": [
    "### Q8. Find out Cars with no airbags and which are compact in type, from the output retrieve only Model, Mileage in city, Type, AirBags"
   ]
  },
  {
   "cell_type": "code",
   "execution_count": null,
   "id": "bc42a149-6a23-48d6-8107-606dfbffab4a",
   "metadata": {},
   "outputs": [],
   "source": [
    "C.query(\"AirBags == 'None' and Type == 'Compact'\") \\\n",
    "    [[\"Model\", \"MPG.city\", \"Type\", \"AirBags\"]]"
   ]
  },
  {
   "cell_type": "markdown",
   "id": "adbaa7d5-4013-48e8-a28f-4e3b6b525432",
   "metadata": {},
   "source": [
    "### Q9. Find out cars with Mileagein city more than 15 which are compact in type"
   ]
  },
  {
   "cell_type": "code",
   "execution_count": null,
   "id": "e80c035a-6aae-4023-906b-a48e2dcbbca7",
   "metadata": {
    "scrolled": true
   },
   "outputs": [],
   "source": [
    "C.query(\"`MPG.city` > 15 and Type == 'Compact'\") \\\n",
    "    [[\"Manufacturer\", \"Model\", \"MPG.city\", \"Type\"]]"
   ]
  },
  {
   "cell_type": "code",
   "execution_count": null,
   "id": "64fe9a47-828a-4527-8a4b-7b61b91d8b56",
   "metadata": {},
   "outputs": [],
   "source": []
  }
 ],
 "metadata": {
  "kernelspec": {
   "display_name": "Python 3 (ipykernel)",
   "language": "python",
   "name": "python3"
  },
  "language_info": {
   "codemirror_mode": {
    "name": "ipython",
    "version": 3
   },
   "file_extension": ".py",
   "mimetype": "text/x-python",
   "name": "python",
   "nbconvert_exporter": "python",
   "pygments_lexer": "ipython3",
   "version": "3.12.4"
  }
 },
 "nbformat": 4,
 "nbformat_minor": 5
}
